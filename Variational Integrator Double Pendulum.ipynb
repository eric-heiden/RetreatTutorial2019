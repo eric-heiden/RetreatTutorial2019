{
 "cells": [
  {
   "cell_type": "markdown",
   "metadata": {},
   "source": [
    "# Simulate Double Pendulum\n"
   ]
  },
  {
   "cell_type": "code",
   "execution_count": 2,
   "metadata": {},
   "outputs": [],
   "source": [
    "using RigidBodyDynamics\n",
    "using StaticArrays\n",
    "using SymPy"
   ]
  },
  {
   "cell_type": "code",
   "execution_count": 3,
   "metadata": {},
   "outputs": [
    {
     "data": {
      "text/latex": [
       "\\[\\left[ \\begin{array}{rrrrrrrrr}m_{1}&m_{2}&I_{1}&I_{2}&l_{1}&l_{2}&c_{1}&c_{2}&g\\end{array}\\right]\\]"
      ],
      "text/plain": [
       "1×9 LinearAlgebra.Transpose{Sym,Array{Sym,1}}:\n",
       " m_1  m_2  I_1  I_2  l_1  l_2  c_1  c_2  g"
      ]
     },
     "execution_count": 3,
     "metadata": {},
     "output_type": "execute_result"
    }
   ],
   "source": [
    "inertias = @syms m_1 m_2 I_1 I_2 positive = true\n",
    "lengths = @syms l_1 l_2 c_1 c_2 real = true\n",
    "gravitational_acceleration = @syms g real = true\n",
    "params = [inertias..., lengths..., gravitational_acceleration...]\n",
    "transpose(params)"
   ]
  },
  {
   "cell_type": "code",
   "execution_count": 4,
   "metadata": {},
   "outputs": [
    {
     "data": {
      "text/plain": [
       "RigidBody: \"world\""
      ]
     },
     "execution_count": 4,
     "metadata": {},
     "output_type": "execute_result"
    }
   ],
   "source": [
    "T = Sym # the 'scalar type' of the Mechanism we'll construct\n",
    "axis = SVector(zero(T), one(T), zero(T)) # axis of rotation for each of the joints\n",
    "double_pendulum = Mechanism(RigidBody{T}(\"world\"); gravity = SVector(zero(T), zero(T), g))\n",
    "world = root_body(double_pendulum) # the fixed 'world' rigid body"
   ]
  },
  {
   "cell_type": "code",
   "execution_count": 5,
   "metadata": {},
   "outputs": [],
   "source": [
    "inertia1 = SpatialInertia(CartesianFrame3D(\"upper_link\"),\n",
    "    moment=I_1 * axis * transpose(axis),\n",
    "    com=SVector(zero(T), zero(T), c_1),\n",
    "    mass=m_1)\n",
    "body1 = RigidBody(inertia1)\n",
    "joint1 = Joint(\"shoulder\", Revolute(axis))\n",
    "joint1_to_world = one(Transform3D{T}, frame_before(joint1), default_frame(world));\n",
    "attach!(double_pendulum, world, body1, joint1,\n",
    "    joint_pose = joint1_to_world);\n",
    "\n",
    "# inertia2 = SpatialInertia(CartesianFrame3D(\"lower_link\"),\n",
    "#     moment=I_2 * axis * transpose(axis),\n",
    "#     com=SVector(zero(T), zero(T), c_2),\n",
    "#     mass=m_2)\n",
    "# body2 = RigidBody(inertia2)\n",
    "# joint2 = Joint(\"elbow\", Revolute(axis))\n",
    "# joint2_to_body1 = Transform3D(\n",
    "#     frame_before(joint2), default_frame(body1), SVector(zero(T), zero(T), l_1))\n",
    "# attach!(double_pendulum, body1, body2, joint2,\n",
    "#     joint_pose = joint2_to_body1)"
   ]
  },
  {
   "cell_type": "code",
   "execution_count": 6,
   "metadata": {},
   "outputs": [
    {
     "data": {
      "text/latex": [
       "\\[\\left[ \\begin{array}{rr}0&0\\end{array}\\right]\\]"
      ],
      "text/plain": [
       "1×2 Array{Sym,2}:\n",
       " 0  0"
      ]
     },
     "execution_count": 6,
     "metadata": {},
     "output_type": "execute_result"
    }
   ],
   "source": [
    "x = MechanismState(double_pendulum);\n",
    "simplify.(transpose([x.q..., x.v...]))"
   ]
  },
  {
   "cell_type": "code",
   "execution_count": 7,
   "metadata": {},
   "outputs": [
    {
     "data": {
      "text/latex": [
       "\\[ \\left[ \\begin{array}{r}q_{1}\\end{array} \\right] \\]"
      ],
      "text/plain": [
       "1-element Array{Sym,1}:\n",
       " q_1"
      ]
     },
     "execution_count": 7,
     "metadata": {},
     "output_type": "execute_result"
    }
   ],
   "source": [
    "q = configuration(x)\n",
    "for i in eachindex(q)\n",
    "    q[i] = symbols(\"q_$i\", real = true)\n",
    "end\n",
    "simplify.(q)"
   ]
  },
  {
   "cell_type": "code",
   "execution_count": 8,
   "metadata": {},
   "outputs": [
    {
     "data": {
      "text/latex": [
       "\\[ \\left[ \\begin{array}{r}v_{1}\\end{array} \\right] \\]"
      ],
      "text/plain": [
       "1-element Array{Sym,1}:\n",
       " v_1"
      ]
     },
     "execution_count": 8,
     "metadata": {},
     "output_type": "execute_result"
    }
   ],
   "source": [
    "v = velocity(x)\n",
    "for i in eachindex(v)\n",
    "    v[i] = symbols(\"v_$i\", real = true)\n",
    "end\n",
    "simplify.(v)"
   ]
  },
  {
   "cell_type": "code",
   "execution_count": 9,
   "metadata": {},
   "outputs": [
    {
     "data": {
      "text/latex": [
       "\\[\\left[ \\begin{array}{r}I_{1}\\end{array}\\right]\\]"
      ],
      "text/plain": [
       "1×1 Array{Sym,2}:\n",
       " I_1"
      ]
     },
     "execution_count": 9,
     "metadata": {},
     "output_type": "execute_result"
    }
   ],
   "source": [
    "simplify.(mass_matrix(x))"
   ]
  },
  {
   "cell_type": "code",
   "execution_count": 10,
   "metadata": {},
   "outputs": [
    {
     "data": {
      "text/latex": [
       "\\begin{equation*}\\frac{I_{1} v_{1}^{2}}{2}\\end{equation*}"
      ],
      "text/plain": [
       "       2\n",
       "I_1*v_1 \n",
       "--------\n",
       "   2    "
      ]
     },
     "execution_count": 10,
     "metadata": {},
     "output_type": "execute_result"
    }
   ],
   "source": [
    "simplify(kinetic_energy(x))"
   ]
  },
  {
   "cell_type": "code",
   "execution_count": 11,
   "metadata": {},
   "outputs": [
    {
     "data": {
      "text/latex": [
       "\\begin{equation*}- c_{1} g m_{1} \\cos{\\left(q_{1} \\right)}\\end{equation*}"
      ],
      "text/plain": [
       "-c_1*g*m_1*cos(q_1)"
      ]
     },
     "execution_count": 11,
     "metadata": {},
     "output_type": "execute_result"
    }
   ],
   "source": [
    "simplify(gravitational_potential_energy(x))"
   ]
  },
  {
   "cell_type": "code",
   "execution_count": 12,
   "metadata": {},
   "outputs": [
    {
     "data": {
      "text/latex": [
       "\\begin{equation*}\\frac{I_{1} v_{1}^{2}}{2} + c_{1} g m_{1} \\cos{\\left(q_{1} \\right)}\\end{equation*}"
      ],
      "text/plain": [
       "       2                     \n",
       "I_1*v_1                      \n",
       "-------- + c_1*g*m_1*cos(q_1)\n",
       "   2                         "
      ]
     },
     "execution_count": 12,
     "metadata": {},
     "output_type": "execute_result"
    }
   ],
   "source": [
    "function lagrangian(q, v)\n",
    "    y = MechanismState(double_pendulum, [q...], [v...])\n",
    "    return kinetic_energy(y) - gravitational_potential_energy(y)\n",
    "end\n",
    "L = lagrangian(q, v)\n",
    "simplify(L)"
   ]
  },
  {
   "cell_type": "code",
   "execution_count": 13,
   "metadata": {},
   "outputs": [],
   "source": [
    "h = symbols(\"h\", positive = true)\n",
    "function discrete_lagrangian(q_k1, q_k2)    \n",
    "    h * lagrangian((q_k1 + q_k2) / 2, (q_k2 - q_k1) / h)\n",
    "end;"
   ]
  },
  {
   "cell_type": "code",
   "execution_count": 14,
   "metadata": {},
   "outputs": [
    {
     "data": {
      "text/latex": [
       "\\begin{equation*}\\frac{I_{1} \\left(z_{1 k} - z_{1 k+1}\\right) + I_{1} \\left(z_{1 k} - z_{1 k-1}\\right) - \\frac{c_{1} g h^{2} m_{1} \\sin{\\left(\\frac{z_{1 k}}{2} + \\frac{z_{1 k+1}}{2} \\right)}}{2} - \\frac{c_{1} g h^{2} m_{1} \\sin{\\left(\\frac{z_{1 k}}{2} + \\frac{z_{1 k-1}}{2} \\right)}}{2}}{h}\\end{equation*}"
      ],
      "text/plain": [
       "                                                   2        /z1_k   z1_k+1\\   \n",
       "                                            c_1*g*h *m_1*sin|---- + ------|   \n",
       "                                                            \\ 2       2   /   \n",
       "I_1*(z1_k - z1_k+1) + I_1*(z1_k - z1_k-1) - ------------------------------- - \n",
       "                                                           2                  \n",
       "------------------------------------------------------------------------------\n",
       "                                                      h                       \n",
       "\n",
       "       2        /z1_k   z1_k-1\\\n",
       "c_1*g*h *m_1*sin|---- + ------|\n",
       "                \\ 2       2   /\n",
       "-------------------------------\n",
       "               2               \n",
       "-------------------------------\n",
       "                               "
      ]
     },
     "execution_count": 14,
     "metadata": {},
     "output_type": "execute_result"
    }
   ],
   "source": [
    "N = length(q)\n",
    "z_k = SVector{N}([symbols(\"z$(i)_k\", real = true) for i ∈ 1:N])\n",
    "z_kp = SVector{N}([symbols(\"z$(i)_k-1\", real = true) for i ∈ 1:N])\n",
    "z_kn = SVector{N}([symbols(\"z$(i)_k+1\", real = true) for i ∈ 1:N])\n",
    "L1 = discrete_lagrangian(z_k, z_kn)\n",
    "L2 = discrete_lagrangian(z_kp, z_k)\n",
    "dL1 = SVector{N}([diff(L1, z_k[i]) for i ∈ 1:N])\n",
    "dL2 = SVector{N}([diff(L2, z_k[i]) for i ∈ 1:N])\n",
    "dL = dL1 + dL2\n",
    "simplify.(dL)[1]"
   ]
  },
  {
   "cell_type": "code",
   "execution_count": 15,
   "metadata": {},
   "outputs": [
    {
     "ename": "PyCall.PyError",
     "evalue": "PyError ($(Expr(:escape, :(ccall(#= C:\\Users\\eric-\\.julia\\packages\\PyCall\\ttONZ\\src\\pyfncall.jl:44 =# @pysym(:PyObject_Call), PyPtr, (PyPtr, PyPtr, PyPtr), o, pyargsptr, kw))))) <class 'NotImplementedError'>\nNotImplementedError('multiple generators [sin(z1_k/2 + z1_k+1/2), z1_k+1]\\nNo algorithms are implemented to solve equation h*(I_1*(2*z1_k - 2*z1_k+1)/(2*h**2) - c_1*g*m_1*sin(z1_k/2 + z1_k+1/2)/2) + h*(I_1*(2*z1_k - 2*z1_k-1)/(2*h**2) - c_1*g*m_1*sin(z1_k/2 + z1_k-1/2)/2)',)\n  File \"C:\\Users\\eric-\\.julia\\conda\\3\\lib\\site-packages\\sympy\\solvers\\solvers.py\", line 1171, in solve\n    solution = _solve(f[0], *symbols, **flags)\n  File \"C:\\Users\\eric-\\.julia\\conda\\3\\lib\\site-packages\\sympy\\solvers\\solvers.py\", line 1742, in _solve\n    raise NotImplementedError('\\n'.join([msg, not_impl_msg % f]))\n",
     "output_type": "error",
     "traceback": [
      "PyError ($(Expr(:escape, :(ccall(#= C:\\Users\\eric-\\.julia\\packages\\PyCall\\ttONZ\\src\\pyfncall.jl:44 =# @pysym(:PyObject_Call), PyPtr, (PyPtr, PyPtr, PyPtr), o, pyargsptr, kw))))) <class 'NotImplementedError'>\nNotImplementedError('multiple generators [sin(z1_k/2 + z1_k+1/2), z1_k+1]\\nNo algorithms are implemented to solve equation h*(I_1*(2*z1_k - 2*z1_k+1)/(2*h**2) - c_1*g*m_1*sin(z1_k/2 + z1_k+1/2)/2) + h*(I_1*(2*z1_k - 2*z1_k-1)/(2*h**2) - c_1*g*m_1*sin(z1_k/2 + z1_k-1/2)/2)',)\n  File \"C:\\Users\\eric-\\.julia\\conda\\3\\lib\\site-packages\\sympy\\solvers\\solvers.py\", line 1171, in solve\n    solution = _solve(f[0], *symbols, **flags)\n  File \"C:\\Users\\eric-\\.julia\\conda\\3\\lib\\site-packages\\sympy\\solvers\\solvers.py\", line 1742, in _solve\n    raise NotImplementedError('\\n'.join([msg, not_impl_msg % f]))\n",
      "",
      "Stacktrace:",
      " [1] pyerr_check at C:\\Users\\eric-\\.julia\\packages\\PyCall\\ttONZ\\src\\exception.jl:60 [inlined]",
      " [2] pyerr_check at C:\\Users\\eric-\\.julia\\packages\\PyCall\\ttONZ\\src\\exception.jl:64 [inlined]",
      " [3] macro expansion at C:\\Users\\eric-\\.julia\\packages\\PyCall\\ttONZ\\src\\exception.jl:84 [inlined]",
      " [4] __pycall!(::PyCall.PyObject, ::Ptr{PyCall.PyObject_struct}, ::PyCall.PyObject, ::Ptr{Nothing}) at C:\\Users\\eric-\\.julia\\packages\\PyCall\\ttONZ\\src\\pyfncall.jl:44",
      " [5] _pycall!(::PyCall.PyObject, ::PyCall.PyObject, ::Tuple{Sym,Sym}, ::Int64, ::Ptr{Nothing}) at C:\\Users\\eric-\\.julia\\packages\\PyCall\\ttONZ\\src\\pyfncall.jl:29",
      " [6] _pycall!(::PyCall.PyObject, ::PyCall.PyObject, ::Tuple{Sym,Sym}, ::Base.Iterators.Pairs{Union{},Union{},Tuple{},NamedTuple{(),Tuple{}}}) at C:\\Users\\eric-\\.julia\\packages\\PyCall\\ttONZ\\src\\pyfncall.jl:11",
      " [7] #call#111(::Base.Iterators.Pairs{Union{},Union{},Tuple{},NamedTuple{(),Tuple{}}}, ::PyCall.PyObject, ::Sym, ::Vararg{Sym,N} where N) at C:\\Users\\eric-\\.julia\\packages\\PyCall\\ttONZ\\src\\pyfncall.jl:89",
      " [8] (::PyCall.PyObject)(::Sym, ::Vararg{Sym,N} where N) at C:\\Users\\eric-\\.julia\\packages\\PyCall\\ttONZ\\src\\pyfncall.jl:89",
      " [9] #solve#205(::Base.Iterators.Pairs{Union{},Union{},Tuple{},NamedTuple{(),Tuple{}}}, ::typeof(solve), ::Sym, ::Sym) at C:\\Users\\eric-\\.julia\\packages\\SymPy\\1Cwgd\\src\\importexport.jl:90",
      " [10] solve(::Sym, ::Sym) at C:\\Users\\eric-\\.julia\\packages\\SymPy\\1Cwgd\\src\\importexport.jl:90",
      " [11] (::getfield(Main, Symbol(\"##13#14\")))(::Int64) at .\\none:0",
      " [12] iterate at .\\generator.jl:47 [inlined]",
      " [13] collect(::Base.Generator{UnitRange{Int64},getfield(Main, Symbol(\"##13#14\"))}) at .\\array.jl:606",
      " [14] top-level scope at In[15]:1"
     ]
    }
   ],
   "source": [
    "var_int = SVector{N}([solve(dL[i], z_kn[i]) for i ∈ 1:N])\n",
    "var_int[1]"
   ]
  },
  {
   "cell_type": "code",
   "execution_count": 16,
   "metadata": {},
   "outputs": [
    {
     "ename": "UndefVarError",
     "evalue": "UndefVarError: var_int not defined",
     "output_type": "error",
     "traceback": [
      "UndefVarError: var_int not defined",
      "",
      "Stacktrace:",
      " [1] top-level scope at In[16]:1"
     ]
    }
   ],
   "source": [
    "integrator = lambdify(var_int[1])\n",
    "free_symbols(var_int[1])"
   ]
  },
  {
   "cell_type": "code",
   "execution_count": null,
   "metadata": {},
   "outputs": [],
   "source": []
  }
 ],
 "metadata": {
  "kernelspec": {
   "display_name": "Julia 1.2.0",
   "language": "julia",
   "name": "julia-1.2"
  },
  "language_info": {
   "file_extension": ".jl",
   "mimetype": "application/julia",
   "name": "julia",
   "version": "1.2.0"
  }
 },
 "nbformat": 4,
 "nbformat_minor": 4
}
