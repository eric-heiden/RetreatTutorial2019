{
 "cells": [
  {
   "cell_type": "markdown",
   "metadata": {},
   "source": [
    "# Simulate Double Pendulum\n"
   ]
  },
  {
   "cell_type": "code",
   "execution_count": 1,
   "metadata": {},
   "outputs": [
    {
     "name": "stderr",
     "output_type": "stream",
     "text": [
      "┌ Info: Precompiling SymPy [24249f21-da20-56a4-8eb1-6a02cf4ae2e6]\n",
      "└ @ Base loading.jl:1273\n"
     ]
    }
   ],
   "source": [
    "using RigidBodyDynamics\n",
    "using StaticArrays\n",
    "using SymPy"
   ]
  },
  {
   "cell_type": "code",
   "execution_count": 2,
   "metadata": {},
   "outputs": [
    {
     "data": {
      "text/latex": [
       "\\[\\left[ \\begin{array}{rrrrrrrrr}m_{1}&m_{2}&I_{1}&I_{2}&l_{1}&l_{2}&c_{1}&c_{2}&g\\end{array}\\right]\\]"
      ],
      "text/plain": [
       "1×9 LinearAlgebra.Transpose{Sym,Array{Sym,1}}:\n",
       " m_1  m_2  I_1  I_2  l_1  l_2  c_1  c_2  g"
      ]
     },
     "execution_count": 2,
     "metadata": {},
     "output_type": "execute_result"
    }
   ],
   "source": [
    "inertias = @syms m_1 m_2 I_1 I_2 positive = true\n",
    "lengths = @syms l_1 l_2 c_1 c_2 real = true\n",
    "gravitational_acceleration = @syms g real = true\n",
    "params = [inertias..., lengths..., gravitational_acceleration...]\n",
    "transpose(params)"
   ]
  },
  {
   "cell_type": "code",
   "execution_count": 3,
   "metadata": {},
   "outputs": [
    {
     "data": {
      "text/plain": [
       "RigidBody: \"world\""
      ]
     },
     "execution_count": 3,
     "metadata": {},
     "output_type": "execute_result"
    }
   ],
   "source": [
    "T = Sym # the 'scalar type' of the Mechanism we'll construct\n",
    "axis = SVector(zero(T), one(T), zero(T)) # axis of rotation for each of the joints\n",
    "double_pendulum = Mechanism(RigidBody{T}(\"world\"); gravity = SVector(zero(T), zero(T), g))\n",
    "world = root_body(double_pendulum) # the fixed 'world' rigid body"
   ]
  },
  {
   "cell_type": "code",
   "execution_count": 4,
   "metadata": {},
   "outputs": [
    {
     "data": {
      "text/plain": [
       "Spanning tree:\n",
       "Vertex: world (root)\n",
       "  Vertex: upper_link, Edge: shoulder\n",
       "    Vertex: lower_link, Edge: elbow\n",
       "No non-tree joints."
      ]
     },
     "execution_count": 4,
     "metadata": {},
     "output_type": "execute_result"
    }
   ],
   "source": [
    "inertia1 = SpatialInertia(CartesianFrame3D(\"upper_link\"),\n",
    "    moment=I_1 * axis * transpose(axis),\n",
    "    com=SVector(zero(T), zero(T), c_1),\n",
    "    mass=m_1)\n",
    "body1 = RigidBody(inertia1)\n",
    "joint1 = Joint(\"shoulder\", Revolute(axis))\n",
    "joint1_to_world = one(Transform3D{T}, frame_before(joint1), default_frame(world));\n",
    "attach!(double_pendulum, world, body1, joint1,\n",
    "    joint_pose = joint1_to_world);\n",
    "\n",
    "inertia2 = SpatialInertia(CartesianFrame3D(\"lower_link\"),\n",
    "    moment=I_2 * axis * transpose(axis),\n",
    "    com=SVector(zero(T), zero(T), c_2),\n",
    "    mass=m_2)\n",
    "body2 = RigidBody(inertia2)\n",
    "joint2 = Joint(\"elbow\", Revolute(axis))\n",
    "joint2_to_body1 = Transform3D(\n",
    "    frame_before(joint2), default_frame(body1), SVector(zero(T), zero(T), l_1))\n",
    "attach!(double_pendulum, body1, body2, joint2,\n",
    "    joint_pose = joint2_to_body1)"
   ]
  },
  {
   "cell_type": "code",
   "execution_count": 21,
   "metadata": {},
   "outputs": [
    {
     "data": {
      "text/latex": [
       "\\[\\left[ \\begin{array}{rrrr}0&0&0&0\\end{array}\\right]\\]"
      ],
      "text/plain": [
       "1×4 Array{Sym,2}:\n",
       " 0  0  0  0"
      ]
     },
     "execution_count": 21,
     "metadata": {},
     "output_type": "execute_result"
    }
   ],
   "source": [
    "x = MechanismState(double_pendulum);\n",
    "simplify.(transpose([x.q..., x.v...]))"
   ]
  },
  {
   "cell_type": "code",
   "execution_count": 23,
   "metadata": {},
   "outputs": [
    {
     "data": {
      "text/latex": [
       "\\[ \\left[ \\begin{array}{r}q_{1}\\\\q_{2}\\end{array} \\right] \\]"
      ],
      "text/plain": [
       "2-element Array{Sym,1}:\n",
       " q_1\n",
       " q_2"
      ]
     },
     "execution_count": 23,
     "metadata": {},
     "output_type": "execute_result"
    }
   ],
   "source": [
    "q = configuration(x)\n",
    "for i in eachindex(q)\n",
    "    q[i] = symbols(\"q_$i\", real = true)\n",
    "end\n",
    "simplify.(q)"
   ]
  },
  {
   "cell_type": "code",
   "execution_count": 24,
   "metadata": {},
   "outputs": [
    {
     "data": {
      "text/latex": [
       "\\[ \\left[ \\begin{array}{r}v_{1}\\\\v_{2}\\end{array} \\right] \\]"
      ],
      "text/plain": [
       "2-element Array{Sym,1}:\n",
       " v_1\n",
       " v_2"
      ]
     },
     "execution_count": 24,
     "metadata": {},
     "output_type": "execute_result"
    }
   ],
   "source": [
    "v = velocity(x)\n",
    "for i in eachindex(v)\n",
    "    v[i] = symbols(\"v_$i\", real = true)\n",
    "end\n",
    "simplify.(v)"
   ]
  },
  {
   "cell_type": "code",
   "execution_count": 9,
   "metadata": {},
   "outputs": [
    {
     "data": {
      "text/latex": [
       "\\[\\left[ \\begin{array}{rr}I_{1} + I_{2} + 2 c_{2} l_{1} m_{2} \\cos{\\left(q_{2} \\right)} + l_{1}^{2} m_{2}&I_{2} + c_{2} l_{1} m_{2} \\cos{\\left(q_{2} \\right)}\\\\I_{2} + c_{2} l_{1} m_{2} \\cos{\\left(q_{2} \\right)}&I_{2}\\end{array}\\right]\\]"
      ],
      "text/plain": [
       "2×2 Array{Sym,2}:\n",
       " I_1 + I_2 + 2*c_2*l_1*m_2*cos(q_2) + l_1^2*m_2  I_2 + c_2*l_1*m_2*cos(q_2)\n",
       "                     I_2 + c_2*l_1*m_2*cos(q_2)                         I_2"
      ]
     },
     "execution_count": 9,
     "metadata": {},
     "output_type": "execute_result"
    }
   ],
   "source": [
    "simplify.(mass_matrix(x))"
   ]
  },
  {
   "cell_type": "code",
   "execution_count": 10,
   "metadata": {},
   "outputs": [
    {
     "data": {
      "text/latex": [
       "\\begin{equation*}\\frac{I_{1} v_{1}^{2}}{2} + \\frac{I_{2} v_{1}^{2}}{2} + I_{2} v_{1} v_{2} + \\frac{I_{2} v_{2}^{2}}{2} + c_{2} l_{1} m_{2} v_{1}^{2} \\cos{\\left(q_{2} \\right)} + c_{2} l_{1} m_{2} v_{1} v_{2} \\cos{\\left(q_{2} \\right)} + \\frac{l_{1}^{2} m_{2} v_{1}^{2}}{2}\\end{equation*}"
      ],
      "text/plain": [
       "     2        2                   2                                           \n",
       "I₁⋅v₁    I₂⋅v₁               I₂⋅v₂               2                            \n",
       "────── + ────── + I₂⋅v₁⋅v₂ + ────── + c₂⋅l₁⋅m₂⋅v₁ ⋅cos(q₂) + c₂⋅l₁⋅m₂⋅v₁⋅v₂⋅co\n",
       "  2        2                   2                                              \n",
       "\n",
       "          2      2\n",
       "        l₁ ⋅m₂⋅v₁ \n",
       "s(q₂) + ──────────\n",
       "            2     "
      ]
     },
     "execution_count": 10,
     "metadata": {},
     "output_type": "execute_result"
    }
   ],
   "source": [
    "simplify(kinetic_energy(x))"
   ]
  },
  {
   "cell_type": "code",
   "execution_count": 11,
   "metadata": {},
   "outputs": [
    {
     "data": {
      "text/latex": [
       "\\begin{equation*}- g \\left(c_{1} m_{1} \\cos{\\left(q_{1} \\right)} + c_{2} m_{2} \\cos{\\left(q_{1} + q_{2} \\right)} + l_{1} m_{2} \\cos{\\left(q_{1} \\right)}\\right)\\end{equation*}"
      ],
      "text/plain": [
       "-g⋅(c₁⋅m₁⋅cos(q₁) + c₂⋅m₂⋅cos(q₁ + q₂) + l₁⋅m₂⋅cos(q₁))"
      ]
     },
     "execution_count": 11,
     "metadata": {},
     "output_type": "execute_result"
    }
   ],
   "source": [
    "simplify(gravitational_potential_energy(x))"
   ]
  },
  {
   "cell_type": "code",
   "execution_count": null,
   "metadata": {},
   "outputs": [],
   "source": []
  }
 ],
 "metadata": {
  "kernelspec": {
   "display_name": "Julia 1.3.0-rc2",
   "language": "julia",
   "name": "julia-1.3"
  },
  "language_info": {
   "file_extension": ".jl",
   "mimetype": "application/julia",
   "name": "julia",
   "version": "1.3.0"
  }
 },
 "nbformat": 4,
 "nbformat_minor": 4
}
